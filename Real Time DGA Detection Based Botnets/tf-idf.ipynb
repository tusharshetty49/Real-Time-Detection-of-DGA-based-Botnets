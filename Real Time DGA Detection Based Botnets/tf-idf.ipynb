{
 "cells": [
  {
   "cell_type": "code",
   "execution_count": 1,
   "metadata": {},
   "outputs": [],
   "source": [
    "import glob\n",
    "import os\n",
    "import pandas as pd\n",
    "import numpy as np\n",
    "import math\n",
    "from collections import Counter\n",
    "from scipy.sparse import csr_matrix, vstack\n",
    "from sklearn.model_selection import train_test_split\n",
    "from sklearn.linear_model import LogisticRegression\n",
    "from sklearn.metrics import classification_report, confusion_matrix\n",
    "from sklearn.preprocessing import LabelEncoder\n",
    "import joblib\n",
    "import matplotlib.pyplot as plt\n",
    "import seaborn as sns\n",
    "import sqlite3\n",
    "from tqdm import tqdm"
   ]
  },
  {
   "cell_type": "code",
   "execution_count": 2,
   "metadata": {},
   "outputs": [
    {
     "name": "stdout",
     "output_type": "stream",
     "text": [
      "                                   domain  label\n",
      "0    86284a03e06c927540df37e24768fde2.org      1\n",
      "1  e347558de8c7d3a0642ba5642a0c1870.cz.cc      1\n",
      "2   18b0923326d19d0edb8f41de1ef6c947.info      1\n",
      "3  b17a2dbfe20ff39b536b5df798c2d020.cz.cc      1\n",
      "4   216a4dae8733e717e2bf8d458ee1426f.info      1\n",
      "Total domains loaded: 4300000\n"
     ]
    }
   ],
   "source": [
    "\n",
    "# Path to the DGA_Botnets_Domains folder\n",
    "dga_domains_path = 'DGA_Botnets_Domains/*.txt'  # Update the path as needed\n",
    "legit_domains_file = 'DGA_Botnets_Domains/legit-1000000.txt'  # Update this path\n",
    "\n",
    "# Load DGA domains from all TXT files in the folder, excluding the legit file\n",
    "dga_domains = []\n",
    "dga_files = glob.glob(dga_domains_path)\n",
    "\n",
    "for file in dga_files:\n",
    "    # Check if the file is not the legitimate domains file\n",
    "    if 'legit-1000000.txt' not in file:  # Exclude the legit domains file\n",
    "        with open(file, 'r') as f:\n",
    "            domains = [line.strip() for line in f.readlines() if line.strip()]  # Remove any empty lines\n",
    "            dga_domains.extend(domains)\n",
    "\n",
    "# Load legitimate domains from the legit file\n",
    "with open(legit_domains_file, 'r') as f:\n",
    "    legit_domains = [line.strip() for line in f.readlines() if line.strip()]  # Remove any empty lines\n",
    "\n",
    "# Create DataFrame with labels\n",
    "data = pd.DataFrame({\n",
    "    'domain': dga_domains + legit_domains,\n",
    "    'label': [1] * len(dga_domains) + [0] * len(legit_domains)  # 1 for DGA, 0 for Legit\n",
    "})\n",
    "\n",
    "# Display the first few rows\n",
    "print(data.head())\n",
    "print(f'Total domains loaded: {len(data)}')\n"
   ]
  },
  {
   "cell_type": "code",
   "execution_count": 3,
   "metadata": {},
   "outputs": [
    {
     "name": "stderr",
     "output_type": "stream",
     "text": [
      "Processing Data: 100%|██████████| 860/860 [38:42<00:00,  2.70s/it]  \n",
      "Calculating IDF: 100%|██████████| 16061427/16061427 [00:14<00:00, 1083804.98it/s]\n",
      "Building Sparse Matrix: 100%|██████████| 860/860 [09:54<00:00,  1.45it/s]\n"
     ]
    },
    {
     "name": "stdout",
     "output_type": "stream",
     "text": [
      "Sparse matrix shape: (4300000, 16061427)\n",
      "Labels shape: (4300000,)\n"
     ]
    }
   ],
   "source": [
    "\n",
    "\n",
    "# Function to extract n-grams from a domain\n",
    "def extract_ngrams(domain, ngram_range=(2, 5)):\n",
    "    ngrams = []\n",
    "    min_n, max_n = ngram_range\n",
    "    for n in range(min_n, max_n + 1):\n",
    "        ngrams.extend([domain[i:i+n] for i in range(len(domain) - n + 1)])\n",
    "    return ngrams\n",
    "\n",
    "# Function to calculate Term Frequency (TF)\n",
    "def calculate_tf(ngrams):\n",
    "    tf = Counter(ngrams)\n",
    "    max_freq = max(tf.values()) if tf else 1\n",
    "    for ngram in tf:\n",
    "        tf[ngram] /= max_freq\n",
    "    return tf\n",
    "\n",
    "# Create an SQLite database to store n-gram counts\n",
    "conn = sqlite3.connect('ngram_counts.db')\n",
    "cursor = conn.cursor()\n",
    "\n",
    "# Create a table to store n-gram counts\n",
    "cursor.execute('''\n",
    "    CREATE TABLE IF NOT EXISTS ngram_counts (\n",
    "        ngram TEXT PRIMARY KEY,\n",
    "        count INTEGER\n",
    "    )\n",
    "''')\n",
    "conn.commit()\n",
    "\n",
    "# Chunk size for processing\n",
    "chunk_size = 5000\n",
    "total_docs = len(data)\n",
    "\n",
    "# Process the dataset in chunks and update n-gram counts in the SQLite database\n",
    "for start_idx in tqdm(range(0, total_docs, chunk_size), desc=\"Processing Data\"):\n",
    "    chunk = data['domain'][start_idx:start_idx + chunk_size]\n",
    "    ngram_counter = Counter()\n",
    "    for domain in chunk:\n",
    "        ngrams = extract_ngrams(domain)\n",
    "        ngram_counter.update(set(ngrams))  # Use set to avoid duplicates within the same domain\n",
    "\n",
    "    # Update counts in the database\n",
    "    for ngram, count in ngram_counter.items():\n",
    "        cursor.execute('''\n",
    "            INSERT INTO ngram_counts (ngram, count)\n",
    "            VALUES (?, ?)\n",
    "            ON CONFLICT(ngram) DO UPDATE SET count = count + ?\n",
    "        ''', (ngram, count, count))\n",
    "\n",
    "    conn.commit()\n",
    "\n",
    "    # Read n-gram counts from the database and calculate IDF\n",
    "idf = {}\n",
    "cursor.execute('SELECT COUNT(*) FROM ngram_counts')\n",
    "total_ngrams = cursor.fetchone()[0]\n",
    "\n",
    "# Calculate IDF for each n-gram\n",
    "cursor.execute('SELECT ngram, count FROM ngram_counts')\n",
    "for ngram, count in tqdm(cursor.fetchall(), desc=\"Calculating IDF\"):\n",
    "    idf[ngram] = math.log(total_docs / (count + 1))\n",
    "\n",
    "# Create n-gram to index mapping\n",
    "ngram_index = {ngram: idx for idx, ngram in enumerate(sorted(idf.keys()))}\n",
    "\n",
    "# Close the SQLite connection\n",
    "conn.close()\n",
    "\n",
    "# Build the sparse TF-IDF matrix in chunks\n",
    "def compute_tfidf_chunks(data_chunk, idf, ngram_index):\n",
    "    rows = []\n",
    "    cols = []\n",
    "    values = []\n",
    "    for row_idx, domain in enumerate(data_chunk):\n",
    "        ngrams = extract_ngrams(domain)\n",
    "        tf = calculate_tf(ngrams)\n",
    "        tfidf = {term: tf[term] * idf.get(term, 0) for term in tf}\n",
    "        for term, value in tfidf.items():\n",
    "            if term in ngram_index:\n",
    "                col_idx = ngram_index[term]\n",
    "                rows.append(row_idx)\n",
    "                cols.append(col_idx)\n",
    "                values.append(value)\n",
    "    return csr_matrix((values, (rows, cols)), shape=(len(data_chunk), len(ngram_index)))\n",
    "\n",
    "# Build the sparse TF-IDF matrix\n",
    "sparse_chunks = []\n",
    "for start_idx in tqdm(range(0, total_docs, chunk_size), desc=\"Building Sparse Matrix\"):\n",
    "    chunk = data['domain'][start_idx:start_idx + chunk_size]\n",
    "    sparse_chunk = compute_tfidf_chunks(chunk, idf, ngram_index)\n",
    "    sparse_chunks.append(sparse_chunk)\n",
    "\n",
    "# Combine all sparse chunks into a single sparse matrix\n",
    "tfidf_sparse_matrix = vstack(sparse_chunks)\n",
    "\n",
    "# Add labels as a separate column\n",
    "label_encoder = LabelEncoder()\n",
    "labels = label_encoder.fit_transform(data['label'])\n",
    "\n",
    "print(f\"Sparse matrix shape: {tfidf_sparse_matrix.shape}\")\n",
    "print(f\"Labels shape: {labels.shape}\")\n",
    "\n",
    "\n"
   ]
  },
  {
   "cell_type": "code",
   "execution_count": 4,
   "metadata": {},
   "outputs": [
    {
     "name": "stderr",
     "output_type": "stream",
     "text": [
      "C:\\Users\\Tushar\\AppData\\Roaming\\Python\\Python312\\site-packages\\sklearn\\linear_model\\_logistic.py:1247: FutureWarning: 'multi_class' was deprecated in version 1.5 and will be removed in 1.7. From then on, it will always use 'multinomial'. Leave it to its default value to avoid this warning.\n",
      "  warnings.warn(\n"
     ]
    },
    {
     "name": "stdout",
     "output_type": "stream",
     "text": [
      "              precision    recall  f1-score   support\n",
      "\n",
      "           0       0.95      0.95      0.95    199869\n",
      "           1       0.98      0.98      0.98    660131\n",
      "\n",
      "    accuracy                           0.98    860000\n",
      "   macro avg       0.97      0.97      0.97    860000\n",
      "weighted avg       0.98      0.98      0.98    860000\n",
      "\n",
      "Model trained and saved as 'logreg_model.pkl'.\n"
     ]
    }
   ],
   "source": [
    "\n",
    "# Train-Test Split (80% training, 20% testing)\n",
    "X_train, X_test, y_train, y_test = train_test_split(tfidf_sparse_matrix, labels, test_size=0.2, random_state=42)\n",
    "\n",
    "# Initialize Logistic Regression Model with the provided parameters\n",
    "logreg_model = LogisticRegression(\n",
    "    penalty='l2',              # Regularization term, L2 regularization (default)\n",
    "    dual=False,                # Use the dual formulation for optimization (set to False for more efficiency when n_samples > n_features)\n",
    "    tol=0.0001,                # Tolerance for stopping criteria\n",
    "    C=1.0,                     # Inverse of regularization strength (default is 1.0)\n",
    "    fit_intercept=True,        # Whether to include an intercept in the model (default is True)\n",
    "    intercept_scaling=1,       # Scaling of the intercept term\n",
    "    class_weight=None,         # Weights associated with classes (None means uniform weights)\n",
    "    random_state=42,           # Seed for random number generation (ensures reproducibility)\n",
    "    solver='lbfgs',            # Solver for optimization (default 'lbfgs', suitable for smaller datasets)\n",
    "    max_iter=1000,             # Maximum number of iterations for convergence\n",
    "    multi_class='auto',        # Multi-class handling (auto handles binary and multiclass automatically)\n",
    "    verbose=0,                 # Verbosity level (0 for no output)\n",
    "    warm_start=False,          # Whether to reuse the previous solution (False means fresh start)\n",
    "    n_jobs=None,               # Number of CPU cores to use for computation (None means 1 core)\n",
    "    l1_ratio=None              # Only used for elastic net (if penalty='elasticnet'), None means L2 penalty\n",
    ")\n",
    "\n",
    "# Train the model\n",
    "logreg_model.fit(X_train, y_train)\n",
    "\n",
    "# Predict on the test set\n",
    "y_pred = logreg_model.predict(X_test)\n",
    "\n",
    "# Print classification report to evaluate performance\n",
    "print(classification_report(y_test, y_pred))\n",
    "\n",
    "# Save the model using joblib for future use\n",
    "joblib.dump(logreg_model, 'logreg_model.pkl')\n",
    "\n",
    "print(\"Model trained and saved as 'logreg_model.pkl'.\")\n"
   ]
  },
  {
   "cell_type": "code",
   "execution_count": 5,
   "metadata": {},
   "outputs": [
    {
     "name": "stdout",
     "output_type": "stream",
     "text": [
      "Model loaded successfully.\n"
     ]
    }
   ],
   "source": [
    "# Load the trained Logistic Regression model\n",
    "logreg_model = joblib.load('logreg_model.pkl')\n",
    "print(\"Model loaded successfully.\")\n"
   ]
  },
  {
   "cell_type": "code",
   "execution_count": 10,
   "metadata": {},
   "outputs": [
    {
     "name": "stdout",
     "output_type": "stream",
     "text": [
      "The domain 'shoppingsaleonline.com' is classified as: Legit\n"
     ]
    }
   ],
   "source": [
    "def classify_domain(domain_name, model, idf, ngram_index):\n",
    "    # Step 1: Extract n-grams from the domain\n",
    "    ngrams = extract_ngrams(domain_name)\n",
    "    \n",
    "    # Step 2: Calculate the TF (Term Frequency) for the n-grams\n",
    "    tf = calculate_tf(ngrams)\n",
    "    \n",
    "    # Step 3: Calculate the TF-IDF for each n-gram using the pre-calculated IDF\n",
    "    tfidf = {term: tf[term] * idf.get(term, 0) for term in tf}\n",
    "    \n",
    "    # Step 4: Create a sparse vector for the domain's TF-IDF features\n",
    "    rows = []\n",
    "    cols = []\n",
    "    values = []\n",
    "    for term, value in tfidf.items():\n",
    "        if term in ngram_index:\n",
    "            col_idx = ngram_index[term]\n",
    "            rows.append(0)  # Only one row (since we're classifying one domain at a time)\n",
    "            cols.append(col_idx)\n",
    "            values.append(value)\n",
    "    \n",
    "    # Step 5: Create a sparse matrix (1 row, many columns)\n",
    "    tfidf_sparse_vector = csr_matrix((values, (rows, cols)), shape=(1, len(ngram_index)))\n",
    "    \n",
    "    # Step 6: Predict using the Logistic Regression model\n",
    "    prediction = model.predict(tfidf_sparse_vector)\n",
    "    \n",
    "    # Return the prediction result (1 = DGA, 0 = Legit)\n",
    "    return \"DGA\" if prediction[0] == 1 else \"Legit\"\n",
    "\n",
    "# Example usage:\n",
    "new_domain = \"shoppingsaleonline.com\"\n",
    "prediction = classify_domain(new_domain, logreg_model, idf, ngram_index)\n",
    "print(f\"The domain '{new_domain}' is classified as: {prediction}\")\n"
   ]
  },
  {
   "cell_type": "code",
   "execution_count": 12,
   "metadata": {},
   "outputs": [
    {
     "name": "stdout",
     "output_type": "stream",
     "text": [
      "\n",
      "Classification Report:\n",
      "              precision    recall  f1-score   support\n",
      "\n",
      "           0       0.95      0.95      0.95    199869\n",
      "           1       0.98      0.98      0.98    660131\n",
      "\n",
      "    accuracy                           0.98    860000\n",
      "   macro avg       0.97      0.97      0.97    860000\n",
      "weighted avg       0.98      0.98      0.98    860000\n",
      "\n"
     ]
    },
    {
     "data": {
      "image/png": "[encoded data removed]",
      "text/plain": [
       "<Figure size 800x600 with 2 Axes>"
      ]
     },
     "metadata": {},
     "output_type": "display_data"
    }
   ],
   "source": [
    "# Import necessary libraries\n",
    "import matplotlib.pyplot as plt\n",
    "import seaborn as sns\n",
    "from sklearn.metrics import confusion_matrix, classification_report\n",
    "\n",
    "# Generate and print classification report\n",
    "print(\"\\nClassification Report:\")\n",
    "print(classification_report(y_test, y_pred))\n",
    "\n",
    "# Create and plot confusion matrix\n",
    "cm = confusion_matrix(y_test, y_pred)\n",
    "plt.figure(figsize=(8, 6))\n",
    "sns.heatmap(cm, annot=True, fmt='d', cmap='Blues')\n",
    "plt.title('Confusion Matrix')\n",
    "plt.ylabel('True Label')\n",
    "plt.xlabel('Predicted Label')\n",
    "plt.show()\n"
   ]
  },
  {
   "cell_type": "code",
   "execution_count": 11,
   "metadata": {},
   "outputs": [
    {
     "name": "stdout",
     "output_type": "stream",
     "text": [
      "The domain 'happybirthdaycat.com' is classified as: Legit\n",
      "The domain 'quickbrownfoxjumpsover.net' is classified as: DGA\n",
      "The domain 'thelazydogsleeps.org' is classified as: Legit\n",
      "The domain 'xytqzoen.org' is classified as: DGA\n",
      "The domain 'lqmgbczx.net' is classified as: DGA\n",
      "The domain 'abdkglpfv.co' is classified as: DGA\n",
      "The domain 'vgfurhex.de' is classified as: DGA\n",
      "The domain 'owciwroj.info' is classified as: DGA\n",
      "The domain 'gsartexp.in' is classified as: DGA\n",
      "The domain 'ptgkzwvu.cc' is classified as: DGA\n",
      "The domain 'zyfucmojq.ru' is classified as: DGA\n",
      "The domain 'nvpkunqlz.com' is classified as: DGA\n",
      "The domain 'ylrjhbtds.com' is classified as: DGA\n",
      "The domain 'qwiorlhps.info' is classified as: DGA\n",
      "The domain 'cvusndju.org' is classified as: DGA\n"
     ]
    }
   ],
   "source": [
    "# List of DGA domains to test\n",
    "dga_test_domains = [\n",
    "    \"happybirthdaycat.com\",\n",
    "    \"quickbrownfoxjumpsover.net\",\n",
    "    \"thelazydogsleeps.org\",\n",
    "    \"xytqzoen.org\",\n",
    "    \"lqmgbczx.net\",\n",
    "    \"abdkglpfv.co\",\n",
    "    \"vgfurhex.de\",\n",
    "    \"owciwroj.info\",\n",
    "    \"gsartexp.in\",\n",
    "    \"ptgkzwvu.cc\",\n",
    "    \"zyfucmojq.ru\",\n",
    "    \"nvpkunqlz.com\",\n",
    "    \"ylrjhbtds.com\",\n",
    "    \"qwiorlhps.info\",\n",
    "    \"cvusndju.org\"\n",
    "]\n",
    "\n",
    "# Classify each domain\n",
    "for domain in dga_test_domains:\n",
    "    prediction = classify_domain(domain, logreg_model, idf, ngram_index)\n",
    "    print(f\"The domain '{domain}' is classified as: {prediction}\")\n"
   ]
  },
  {
   "cell_type": "markdown",
   "metadata": {},
   "source": []
  },
  {
   "cell_type": "code",
   "execution_count": 9,
   "metadata": {},
   "outputs": [
    {
     "name": "stdout",
     "output_type": "stream",
     "text": [
      "Model and supporting files saved successfully.\n"
     ]
    }
   ],
   "source": [
    "import joblib\n",
    "\n",
    "# Save the trained model\n",
    "joblib.dump(logreg_model, 'logreg_model.pkl')\n",
    "\n",
    "# Save other important components\n",
    "joblib.dump(idf, 'idf.pkl')              # Save IDF dictionary\n",
    "joblib.dump(ngram_index, 'ngram_index.pkl')  # Save n-gram index mapping\n",
    "\n",
    "print(\"Model and supporting files saved successfully.\")\n"
   ]
  },
  {
   "cell_type": "code",
   "execution_count": null,
   "metadata": {},
   "outputs": [],
   "source": []
  }
 ],
 "metadata": {
  "kernelspec": {
   "display_name": "Python 3",
   "language": "python",
   "name": "python3"
  },
  "language_info": {
   "codemirror_mode": {
    "name": "ipython",
    "version": 3
   },
   "file_extension": ".py",
   "mimetype": "text/x-python",
   "name": "python",
   "nbconvert_exporter": "python",
   "pygments_lexer": "ipython3",
   "version": "3.12.3"
  }
 },
 "nbformat": 4,
 "nbformat_minor": 2
}
